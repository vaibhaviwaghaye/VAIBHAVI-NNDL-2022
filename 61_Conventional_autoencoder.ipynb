{
  "nbformat": 4,
  "nbformat_minor": 0,
  "metadata": {
    "colab": {
      "name": "61 Conventional_autoencoder.ipynb",
      "provenance": [],
      "include_colab_link": true
    },
    "kernelspec": {
      "name": "python3",
      "display_name": "Python 3"
    },
    "language_info": {
      "name": "python"
    }
  },
  "cells": [
    {
      "cell_type": "markdown",
      "metadata": {
        "id": "view-in-github",
        "colab_type": "text"
      },
      "source": [
        "<a href=\"https://colab.research.google.com/github/vaibhaviwaghaye/VAIBHAVI-NNDL-2022/blob/main/61_Conventional_autoencoder.ipynb\" target=\"_parent\"><img src=\"https://colab.research.google.com/assets/colab-badge.svg\" alt=\"Open In Colab\"/></a>"
      ]
    },
    {
      "cell_type": "markdown",
      "source": [
        "**AUTOENCODER FEATURE EXTRACTION FOR CLASSIFICATION USING CONVENTIONAL AUTOENCODER**"
      ],
      "metadata": {
        "id": "78Sk2yoNJjNg"
      }
    },
    {
      "cell_type": "markdown",
      "source": [
        "***AIM: To use Conventional autoencoder feature extraction method for classification***"
      ],
      "metadata": {
        "id": "IgT6P9ljJxst"
      }
    },
    {
      "cell_type": "markdown",
      "source": [
        "***THEORY:***\n",
        "\n",
        "*An autoencoder is a special type of neural network that is trained to copy its input to its output. For example, given an image of a handwritten digit, an autoencoder first encodes the image into a lower dimensional latent representation, then decodes the latent representation back to an image.*\n",
        "\n",
        "*Data specific means that the autoencoder will only be able to actually compress the data on which it has been trained. For example, if you train an autoencoder with images of dogs, then it will give a bad performance for cats. The autoencoder plans to learn the representation which is known as the encoding for a whole set of data. This can result in the reduction of the dimensionality by the training network. The reconstruction part is also learned with this.*\n",
        "\n",
        "*Lossy operations mean that the reconstructed image is often not an as sharp or high resolution in quality as the original one and the difference is greater for reconstructions with a greater loss and this is known as a lossy operation. The following image shows how the image is encoded and decoded with a certain loss factor.*\n",
        "\n",
        "*The Input will be passed through a layer of encoders which are actually a fully connected neural network that also makes the code decoder and hence use the same code for encoding and decoding like an ANN.*"
      ],
      "metadata": {
        "id": "PqLF-MjmJ62b"
      }
    },
    {
      "cell_type": "markdown",
      "source": [
        "***IMPLEMENTATION:***\n",
        "\n",
        "*Trained ANN through backpropagation works in the same way as the autoencoders. In this article we are going to discuss Conventional autoencoder which will be implemented as follows:*"
      ],
      "metadata": {
        "id": "nh9nPB3QKETC"
      }
    },
    {
      "cell_type": "code",
      "execution_count": null,
      "metadata": {
        "id": "IKuDhQjMpQ1x"
      },
      "outputs": [],
      "source": [
        "import os\n",
        "os.environ[\"TF_CPP_MIN_LOG_LEVEL\"] = \"2\"\n",
        "\n",
        "import numpy as np\n",
        "import matplotlib.pyplot as plt\n",
        "import tensorflow as tf\n",
        "from tensorflow.keras.layers import Input, Dense, Conv2D, Activation, MaxPool2D\n",
        "from tensorflow.keras.layers import BatchNormalization, Flatten, Reshape, Conv2DTranspose, LeakyReLU\n",
        "from tensorflow.keras.models import Model\n",
        "from tensorflow.keras.optimizers import Adam, SGD"
      ]
    },
    {
      "cell_type": "code",
      "source": [
        "## Seeding\n",
        "np.random.seed(42)\n",
        "tf.random.set_seed(42)\n",
        "\n",
        "## Loading the dataset and then normalizing the images.\n",
        "dataset = tf.keras.datasets.fashion_mnist\n",
        "(x_train, y_train),(x_test, y_test) = dataset.load_data()\n",
        "x_train, x_test = x_train / 255.0, x_test / 255.0"
      ],
      "metadata": {
        "colab": {
          "base_uri": "https://localhost:8080/"
        },
        "id": "n5RcveaxpUgp",
        "outputId": "1a69b31f-6d73-4b90-b0ed-c4b61586dde9"
      },
      "execution_count": null,
      "outputs": [
        {
          "output_type": "stream",
          "name": "stdout",
          "text": [
            "Downloading data from https://storage.googleapis.com/tensorflow/tf-keras-datasets/train-labels-idx1-ubyte.gz\n",
            "32768/29515 [=================================] - 0s 0us/step\n",
            "40960/29515 [=========================================] - 0s 0us/step\n",
            "Downloading data from https://storage.googleapis.com/tensorflow/tf-keras-datasets/train-images-idx3-ubyte.gz\n",
            "26427392/26421880 [==============================] - 0s 0us/step\n",
            "26435584/26421880 [==============================] - 0s 0us/step\n",
            "Downloading data from https://storage.googleapis.com/tensorflow/tf-keras-datasets/t10k-labels-idx1-ubyte.gz\n",
            "16384/5148 [===============================================================================================] - 0s 0us/step\n",
            "Downloading data from https://storage.googleapis.com/tensorflow/tf-keras-datasets/t10k-images-idx3-ubyte.gz\n",
            "4423680/4422102 [==============================] - 0s 0us/step\n",
            "4431872/4422102 [==============================] - 0s 0us/step\n"
          ]
        }
      ]
    },
    {
      "cell_type": "code",
      "source": [
        "## Hyperparameters\n",
        "H = 28\n",
        "W = 28\n",
        "C = 1\n",
        "\n",
        "## Latent space\n",
        "latent_dim = 128"
      ],
      "metadata": {
        "id": "yTP2zoYopd6g"
      },
      "execution_count": null,
      "outputs": []
    },
    {
      "cell_type": "code",
      "source": [
        "## Building the autoencoder\n",
        "inputs = Input(shape=(H, W, C), name=\"inputs\")\n",
        "x = inputs\n",
        "\n",
        "x = Conv2D(32, (3, 3), padding=\"same\")(x)\n",
        "x = BatchNormalization()(x)\n",
        "x = LeakyReLU(alpha=0.2)(x)\n",
        "x = MaxPool2D((2, 2))(x)\n",
        "\n",
        "x = Conv2D(64, (3, 3), padding=\"same\")(x)\n",
        "x = BatchNormalization()(x)\n",
        "x = LeakyReLU(alpha=0.2)(x)\n",
        "x = MaxPool2D((2, 2))(x)\n",
        "\n",
        "x = Flatten()(x)\n",
        "units = x.shape[1]\n",
        "x = Dense(latent_dim, name=\"latent\")(x)\n",
        "x = Dense(units)(x)\n",
        "x = LeakyReLU(alpha=0.2)(x)\n",
        "x = Reshape((7, 7, 64))(x)\n",
        "\n",
        "x = Conv2DTranspose(64, (3, 3), strides=2, padding=\"same\")(x)\n",
        "x = BatchNormalization()(x)\n",
        "x = LeakyReLU(alpha=0.2)(x)\n",
        "\n",
        "x = Conv2DTranspose(1, (3, 3), strides=2, padding=\"same\")(x)\n",
        "x = BatchNormalization()(x)\n",
        "x = Activation(\"sigmoid\", name=\"outputs\")(x)\n",
        "\n",
        "outputs = x\n",
        "\n",
        "autoencoder = Model(inputs, outputs)\n",
        "autoencoder.compile(optimizer=Adam(1e-3), loss='binary_crossentropy')\n",
        "autoencoder.summary()\n",
        "\n",
        "print(x_train.shape, x_test.shape)"
      ],
      "metadata": {
        "colab": {
          "base_uri": "https://localhost:8080/"
        },
        "id": "1lpkDPCwpfCD",
        "outputId": "2c230070-a7c8-4413-aa9e-0842d1b2154c"
      },
      "execution_count": null,
      "outputs": [
        {
          "output_type": "stream",
          "name": "stdout",
          "text": [
            "Model: \"model\"\n",
            "_________________________________________________________________\n",
            " Layer (type)                Output Shape              Param #   \n",
            "=================================================================\n",
            " inputs (InputLayer)         [(None, 28, 28, 1)]       0         \n",
            "                                                                 \n",
            " conv2d (Conv2D)             (None, 28, 28, 32)        320       \n",
            "                                                                 \n",
            " batch_normalization (BatchN  (None, 28, 28, 32)       128       \n",
            " ormalization)                                                   \n",
            "                                                                 \n",
            " leaky_re_lu (LeakyReLU)     (None, 28, 28, 32)        0         \n",
            "                                                                 \n",
            " max_pooling2d (MaxPooling2D  (None, 14, 14, 32)       0         \n",
            " )                                                               \n",
            "                                                                 \n",
            " conv2d_1 (Conv2D)           (None, 14, 14, 64)        18496     \n",
            "                                                                 \n",
            " batch_normalization_1 (Batc  (None, 14, 14, 64)       256       \n",
            " hNormalization)                                                 \n",
            "                                                                 \n",
            " leaky_re_lu_1 (LeakyReLU)   (None, 14, 14, 64)        0         \n",
            "                                                                 \n",
            " max_pooling2d_1 (MaxPooling  (None, 7, 7, 64)         0         \n",
            " 2D)                                                             \n",
            "                                                                 \n",
            " flatten (Flatten)           (None, 3136)              0         \n",
            "                                                                 \n",
            " latent (Dense)              (None, 128)               401536    \n",
            "                                                                 \n",
            " dense (Dense)               (None, 3136)              404544    \n",
            "                                                                 \n",
            " leaky_re_lu_2 (LeakyReLU)   (None, 3136)              0         \n",
            "                                                                 \n",
            " reshape (Reshape)           (None, 7, 7, 64)          0         \n",
            "                                                                 \n",
            " conv2d_transpose (Conv2DTra  (None, 14, 14, 64)       36928     \n",
            " nspose)                                                         \n",
            "                                                                 \n",
            " batch_normalization_2 (Batc  (None, 14, 14, 64)       256       \n",
            " hNormalization)                                                 \n",
            "                                                                 \n",
            " leaky_re_lu_3 (LeakyReLU)   (None, 14, 14, 64)        0         \n",
            "                                                                 \n",
            " conv2d_transpose_1 (Conv2DT  (None, 28, 28, 1)        577       \n",
            " ranspose)                                                       \n",
            "                                                                 \n",
            " batch_normalization_3 (Batc  (None, 28, 28, 1)        4         \n",
            " hNormalization)                                                 \n",
            "                                                                 \n",
            " outputs (Activation)        (None, 28, 28, 1)         0         \n",
            "                                                                 \n",
            "=================================================================\n",
            "Total params: 863,045\n",
            "Trainable params: 862,723\n",
            "Non-trainable params: 322\n",
            "_________________________________________________________________\n",
            "(60000, 28, 28) (10000, 28, 28)\n"
          ]
        }
      ]
    },
    {
      "cell_type": "code",
      "source": [
        "autoencoder.fit(\n",
        "    x_train,\n",
        "    x_train,\n",
        "    epochs=20,\n",
        "    batch_size=256,\n",
        "    shuffle=False,\n",
        "    validation_data=(x_test, x_test)\n",
        ")\n",
        "test_pred_y = autoencoder.predict(x_test)"
      ],
      "metadata": {
        "colab": {
          "base_uri": "https://localhost:8080/"
        },
        "id": "2PEosQ7KpoFF",
        "outputId": "8d956a11-3927-4a91-d1de-d1f6a4825e26"
      },
      "execution_count": null,
      "outputs": [
        {
          "output_type": "stream",
          "name": "stdout",
          "text": [
            "Epoch 1/20\n",
            "235/235 [==============================] - 137s 575ms/step - loss: 0.4641 - val_loss: 0.5116\n",
            "Epoch 2/20\n",
            "235/235 [==============================] - 129s 548ms/step - loss: 0.3890 - val_loss: 0.3912\n",
            "Epoch 3/20\n",
            "235/235 [==============================] - 128s 545ms/step - loss: 0.3511 - val_loss: 0.3497\n",
            "Epoch 4/20\n",
            "235/235 [==============================] - 127s 542ms/step - loss: 0.3266 - val_loss: 0.3250\n",
            "Epoch 5/20\n",
            "235/235 [==============================] - 128s 543ms/step - loss: 0.3098 - val_loss: 0.3060\n",
            "Epoch 6/20\n",
            "235/235 [==============================] - 127s 542ms/step - loss: 0.2978 - val_loss: 0.2967\n",
            "Epoch 7/20\n",
            "235/235 [==============================] - 128s 544ms/step - loss: 0.2889 - val_loss: 0.2883\n",
            "Epoch 8/20\n",
            "235/235 [==============================] - 128s 543ms/step - loss: 0.2821 - val_loss: 0.2803\n",
            "Epoch 9/20\n",
            "235/235 [==============================] - 128s 546ms/step - loss: 0.2768 - val_loss: 0.2767\n",
            "Epoch 10/20\n",
            "235/235 [==============================] - 128s 546ms/step - loss: 0.2727 - val_loss: 0.2733\n",
            "Epoch 11/20\n",
            "235/235 [==============================] - 128s 544ms/step - loss: 0.2694 - val_loss: 0.2698\n",
            "Epoch 12/20\n",
            "235/235 [==============================] - 128s 543ms/step - loss: 0.2667 - val_loss: 0.2672\n",
            "Epoch 13/20\n",
            "235/235 [==============================] - 127s 542ms/step - loss: 0.2644 - val_loss: 0.2660\n",
            "Epoch 14/20\n",
            "235/235 [==============================] - 128s 544ms/step - loss: 0.2626 - val_loss: 0.2645\n",
            "Epoch 15/20\n",
            "235/235 [==============================] - 128s 545ms/step - loss: 0.2610 - val_loss: 0.2627\n",
            "Epoch 16/20\n",
            "235/235 [==============================] - 130s 551ms/step - loss: 0.2598 - val_loss: 0.2629\n",
            "Epoch 17/20\n",
            "235/235 [==============================] - 128s 544ms/step - loss: 0.2588 - val_loss: 0.2604\n",
            "Epoch 18/20\n",
            "235/235 [==============================] - 128s 545ms/step - loss: 0.2578 - val_loss: 0.2609\n",
            "Epoch 19/20\n",
            "235/235 [==============================] - 129s 548ms/step - loss: 0.2570 - val_loss: 0.2591\n",
            "Epoch 20/20\n",
            "235/235 [==============================] - 128s 544ms/step - loss: 0.2563 - val_loss: 0.2588\n"
          ]
        }
      ]
    },
    {
      "cell_type": "code",
      "source": [
        "n = 10  ## how many digits we will display\n",
        "plt.figure(figsize=(20, 4))\n",
        "for i in range(n):\n",
        "    ## display original\n",
        "    ax = plt.subplot(2, n, i + 1)\n",
        "    ax.set_title(\"Original Image\")\n",
        "    plt.imshow(x_test[i].reshape(H, W))\n",
        "    plt.gray()\n",
        "    ax.get_xaxis().set_visible(False)\n",
        "    ax.get_yaxis().set_visible(False)\n",
        "  \n",
        "   ## display reconstruction\n",
        "    ax = plt.subplot(2, n, i + 1 + n)\n",
        "    ax.set_title(\"Predicted Image\")\n",
        "    plt.imshow(test_pred_y[i].reshape(H, W))\n",
        "    plt.gray()\n",
        "    ax.get_xaxis().set_visible(False)\n",
        "    ax.get_yaxis().set_visible(False)"
      ],
      "metadata": {
        "colab": {
          "base_uri": "https://localhost:8080/",
          "height": 264
        },
        "id": "nQkn6N5QpsLm",
        "outputId": "83fa3a9d-0480-407d-ef67-80333d86c890"
      },
      "execution_count": null,
      "outputs": [
        {
          "output_type": "display_data",
          "data": {
            "text/plain": [
              "<Figure size 1440x288 with 20 Axes>"
            ],
            "image/png": "[encoded data removed]"
          },
          "metadata": {
            "needs_background": "light"
          }
        }
      ]
    },
    {
      "cell_type": "markdown",
      "source": [
        "***CONCLUSION***\n",
        "\n",
        "*We have managed to classify the image using conventional autoencoder using feature extraction*"
      ],
      "metadata": {
        "id": "1lllQ3qXKPYc"
      }
    }
  ]
}